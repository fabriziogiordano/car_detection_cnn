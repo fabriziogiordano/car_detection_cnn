{
  "nbformat": 4,
  "nbformat_minor": 0,
  "metadata": {
    "colab": {
      "provenance": [],
      "machine_shape": "hm",
      "gpuType": "A100",
      "authorship_tag": "ABX9TyNoh/m+mfUxT3yU65fHt2ZY",
      "include_colab_link": true
    },
    "kernelspec": {
      "name": "python3",
      "display_name": "Python 3"
    },
    "language_info": {
      "name": "python"
    },
    "accelerator": "GPU"
  },
  "cells": [
    {
      "cell_type": "markdown",
      "metadata": {
        "id": "view-in-github",
        "colab_type": "text"
      },
      "source": [
        "<a href=\"https://colab.research.google.com/github/fabriziogiordano/parking_lot_classifier/blob/main/parking_lot_classifier.ipynb\" target=\"_parent\"><img src=\"https://colab.research.google.com/assets/colab-badge.svg\" alt=\"Open In Colab\"/></a>"
      ]
    },
    {
      "cell_type": "code",
      "execution_count": null,
      "metadata": {
        "colab": {
          "base_uri": "https://localhost:8080/"
        },
        "id": "yvS2uzOsn7xt",
        "outputId": "1b4acfec-cfaf-4fc6-9c63-341eb41d6870"
      },
      "outputs": [
        {
          "output_type": "stream",
          "name": "stdout",
          "text": [
            "Wed Sep  4 23:16:22 2024       \n",
            "+---------------------------------------------------------------------------------------+\n",
            "| NVIDIA-SMI 535.104.05             Driver Version: 535.104.05   CUDA Version: 12.2     |\n",
            "|-----------------------------------------+----------------------+----------------------+\n",
            "| GPU  Name                 Persistence-M | Bus-Id        Disp.A | Volatile Uncorr. ECC |\n",
            "| Fan  Temp   Perf          Pwr:Usage/Cap |         Memory-Usage | GPU-Util  Compute M. |\n",
            "|                                         |                      |               MIG M. |\n",
            "|=========================================+======================+======================|\n",
            "|   0  NVIDIA A100-SXM4-40GB          Off | 00000000:00:04.0 Off |                    0 |\n",
            "| N/A   33C    P0              43W / 400W |      2MiB / 40960MiB |      0%      Default |\n",
            "|                                         |                      |             Disabled |\n",
            "+-----------------------------------------+----------------------+----------------------+\n",
            "                                                                                         \n",
            "+---------------------------------------------------------------------------------------+\n",
            "| Processes:                                                                            |\n",
            "|  GPU   GI   CI        PID   Type   Process name                            GPU Memory |\n",
            "|        ID   ID                                                             Usage      |\n",
            "|=======================================================================================|\n",
            "|  No running processes found                                                           |\n",
            "+---------------------------------------------------------------------------------------+\n"
          ]
        }
      ],
      "source": [
        "gpu_info = !nvidia-smi\n",
        "gpu_info = '\\n'.join(gpu_info)\n",
        "if gpu_info.find('failed') >= 0:\n",
        "  print('Not connected to a GPU')\n",
        "else:\n",
        "  print(gpu_info)"
      ]
    },
    {
      "cell_type": "code",
      "source": [
        "from psutil import virtual_memory\n",
        "ram_gb = virtual_memory().total / 1e9\n",
        "print('Your runtime has {:.1f} gigabytes of available RAM\\n'.format(ram_gb))\n",
        "\n",
        "if ram_gb < 20:\n",
        "  print('Not using a high-RAM runtime')\n",
        "else:\n",
        "  print('You are using a high-RAM runtime!')"
      ],
      "metadata": {
        "colab": {
          "base_uri": "https://localhost:8080/"
        },
        "id": "ahXLY5gcqE8r",
        "outputId": "91817a6c-51e3-4f3b-c536-7422b1fa7870"
      },
      "execution_count": null,
      "outputs": [
        {
          "output_type": "stream",
          "name": "stdout",
          "text": [
            "Your runtime has 89.6 gigabytes of available RAM\n",
            "\n",
            "You are using a high-RAM runtime!\n"
          ]
        }
      ]
    },
    {
      "cell_type": "code",
      "source": [
        "! echo \"START\"\n",
        "! rm -rf /content/parking_lot_classifier\n",
        "! rm -rf /content/sample_data\n",
        "! echo \"CLONE\"\n",
        "! git clone --depth 1 --branch main --quiet https://github.com/fabriziogiordano/parking_lot_classifier.git\n",
        "! rm -rf /content/parking_lot_classifier/.git\n",
        "! echo \"SYNCING\"\n",
        "! rsync -a /content/parking_lot_classifier/ /content/\n",
        "! rm -rf /content/parking_lot_classifier\n",
        "! echo \"DONE\""
      ],
      "metadata": {
        "id": "6Wjhqb5UrB4L",
        "colab": {
          "base_uri": "https://localhost:8080/"
        },
        "outputId": "e20b5a36-2653-4a04-9f43-3449542f281f"
      },
      "execution_count": null,
      "outputs": [
        {
          "output_type": "stream",
          "name": "stdout",
          "text": [
            "START\n",
            "CLONE\n",
            "SYNCING\n",
            "DONE\n"
          ]
        }
      ]
    },
    {
      "cell_type": "code",
      "source": [
        "!python train.py"
      ],
      "metadata": {
        "colab": {
          "base_uri": "https://localhost:8080/"
        },
        "id": "8HIHbZGKPKP4",
        "outputId": "432127af-79bd-4d74-fc8f-ace11ac38693"
      },
      "execution_count": null,
      "outputs": [
        {
          "output_type": "stream",
          "name": "stdout",
          "text": [
            "Epoch 1/50, Loss: 0.11750890392247296\n",
            "Epoch 2/50, Loss: 0.028602840165110815\n",
            "Epoch 3/50, Loss: 0.021494014580114285\n",
            "Epoch 4/50, Loss: 0.01807458936816826\n",
            "Epoch 5/50, Loss: 0.015165128801155833\n",
            "Epoch 6/50, Loss: 0.016004327800979348\n",
            "Epoch 7/50, Loss: 0.014754451014493792\n",
            "Epoch 8/50, Loss: 0.011034732509165543\n",
            "Epoch 9/50, Loss: 0.010470181878792548\n",
            "Epoch 10/50, Loss: 0.013841288196999812\n",
            "Epoch 11/50, Loss: 0.009681869463022363\n",
            "Epoch 12/50, Loss: 0.010514461092331569\n",
            "Epoch 13/50, Loss: 0.008542843263775224\n",
            "Epoch 14/50, Loss: 0.007714017605849222\n",
            "Epoch 15/50, Loss: 0.007477763184877557\n",
            "Epoch 16/50, Loss: 0.008036783868190686\n",
            "Epoch 17/50, Loss: 0.007330945287388862\n",
            "Epoch 18/50, Loss: 0.006982698628380395\n",
            "Epoch 19/50, Loss: 0.005960107468154028\n",
            "Epoch 20/50, Loss: 0.006295280969490871\n",
            "Epoch 21/50, Loss: 0.004313696100721717\n",
            "Epoch 22/50, Loss: 0.004417845561491363\n",
            "Epoch 23/50, Loss: 0.005443903705382744\n",
            "Epoch 24/50, Loss: 0.006742663217764739\n",
            "Epoch 25/50, Loss: 0.007186420841403368\n",
            "Epoch 26/50, Loss: 0.0076186903085050835\n",
            "Epoch 27/50, Loss: 0.007231452358506534\n",
            "Epoch 28/50, Loss: 0.004429345376412106\n",
            "Epoch 29/50, Loss: 0.003817399009661868\n",
            "Epoch 30/50, Loss: 0.002909788154175103\n",
            "Epoch 31/50, Loss: 0.003429299957253772\n",
            "Epoch 32/50, Loss: 0.005674256979594481\n",
            "Epoch 33/50, Loss: 0.0022719004723195384\n",
            "Epoch 34/50, Loss: 0.002777962849764391\n",
            "Epoch 35/50, Loss: 0.0022459540975556147\n",
            "Epoch 36/50, Loss: 0.002182361547042683\n",
            "Epoch 37/50, Loss: 0.001443396128019379\n",
            "Epoch 38/50, Loss: 0.001971157973765765\n",
            "Epoch 39/50, Loss: 0.0029882618637503584\n",
            "Epoch 40/50, Loss: 0.001819335585725211\n",
            "Epoch 41/50, Loss: 0.0019982193957516574\n",
            "Epoch 42/50, Loss: 0.00263291723284113\n",
            "Epoch 43/50, Loss: 0.001987302831275868\n",
            "Epoch 44/50, Loss: 0.0009809386649085327\n",
            "Epoch 45/50, Loss: 0.0011727083895923666\n",
            "Epoch 46/50, Loss: 0.0018733050520449727\n",
            "Epoch 47/50, Loss: 0.0018174474928093945\n",
            "Epoch 48/50, Loss: 0.003576258416197811\n",
            "Epoch 49/50, Loss: 0.0037379995898193566\n",
            "Epoch 50/50, Loss: 0.003179236330611308\n"
          ]
        }
      ]
    },
    {
      "cell_type": "code",
      "source": [
        "!python evaluate.py"
      ],
      "metadata": {
        "colab": {
          "base_uri": "https://localhost:8080/"
        },
        "id": "eIm7_h-SQDut",
        "outputId": "287bdebd-fc14-43f5-f9c2-de2caa26874e"
      },
      "execution_count": null,
      "outputs": [
        {
          "output_type": "stream",
          "name": "stdout",
          "text": [
            "Accuracy: 99.56%\n"
          ]
        }
      ]
    }
  ]
}